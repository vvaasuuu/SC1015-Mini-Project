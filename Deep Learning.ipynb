{
 "cells": [
  {
   "cell_type": "code",
   "execution_count": 1,
   "id": "6c301546-cf33-4e5e-9e4c-ae6fc7eeb4f7",
   "metadata": {},
   "outputs": [],
   "source": [
    "# Basic Libraries\n",
    "import numpy as np\n",
    "import pandas as pd"
   ]
  },
  {
   "cell_type": "code",
   "execution_count": 2,
   "id": "6467b00a-506e-42e4-be2c-e6d0eff0daa7",
   "metadata": {},
   "outputs": [],
   "source": [
    "from sklearn.model_selection import train_test_split"
   ]
  },
  {
   "cell_type": "code",
   "execution_count": 4,
   "id": "6c7d8c75-9f5c-412f-8081-013112bd3cde",
   "metadata": {},
   "outputs": [],
   "source": [
    "dataa= pd.read_csv('C:/Users/kavya/OneDrive/Desktop/diabetes.csv')"
   ]
  },
  {
   "cell_type": "code",
   "execution_count": 5,
   "id": "68862c70-e4a0-4142-8aa6-bea307e9d8f9",
   "metadata": {},
   "outputs": [
    {
     "data": {
      "text/html": [
       "<div>\n",
       "<style scoped>\n",
       "    .dataframe tbody tr th:only-of-type {\n",
       "        vertical-align: middle;\n",
       "    }\n",
       "\n",
       "    .dataframe tbody tr th {\n",
       "        vertical-align: top;\n",
       "    }\n",
       "\n",
       "    .dataframe thead th {\n",
       "        text-align: right;\n",
       "    }\n",
       "</style>\n",
       "<table border=\"1\" class=\"dataframe\">\n",
       "  <thead>\n",
       "    <tr style=\"text-align: right;\">\n",
       "      <th></th>\n",
       "      <th>Pregnancies</th>\n",
       "      <th>Glucose</th>\n",
       "      <th>BloodPressure</th>\n",
       "      <th>SkinThickness</th>\n",
       "      <th>Insulin</th>\n",
       "      <th>BMI</th>\n",
       "      <th>DiabetesPedigreeFunction</th>\n",
       "      <th>Age</th>\n",
       "      <th>Outcome</th>\n",
       "    </tr>\n",
       "  </thead>\n",
       "  <tbody>\n",
       "    <tr>\n",
       "      <th>0</th>\n",
       "      <td>6</td>\n",
       "      <td>148</td>\n",
       "      <td>72</td>\n",
       "      <td>35</td>\n",
       "      <td>0</td>\n",
       "      <td>33.6</td>\n",
       "      <td>0.627</td>\n",
       "      <td>50</td>\n",
       "      <td>1</td>\n",
       "    </tr>\n",
       "    <tr>\n",
       "      <th>1</th>\n",
       "      <td>1</td>\n",
       "      <td>85</td>\n",
       "      <td>66</td>\n",
       "      <td>29</td>\n",
       "      <td>0</td>\n",
       "      <td>26.6</td>\n",
       "      <td>0.351</td>\n",
       "      <td>31</td>\n",
       "      <td>0</td>\n",
       "    </tr>\n",
       "    <tr>\n",
       "      <th>2</th>\n",
       "      <td>8</td>\n",
       "      <td>183</td>\n",
       "      <td>64</td>\n",
       "      <td>0</td>\n",
       "      <td>0</td>\n",
       "      <td>23.3</td>\n",
       "      <td>0.672</td>\n",
       "      <td>32</td>\n",
       "      <td>1</td>\n",
       "    </tr>\n",
       "    <tr>\n",
       "      <th>3</th>\n",
       "      <td>1</td>\n",
       "      <td>89</td>\n",
       "      <td>66</td>\n",
       "      <td>23</td>\n",
       "      <td>94</td>\n",
       "      <td>28.1</td>\n",
       "      <td>0.167</td>\n",
       "      <td>21</td>\n",
       "      <td>0</td>\n",
       "    </tr>\n",
       "    <tr>\n",
       "      <th>4</th>\n",
       "      <td>0</td>\n",
       "      <td>137</td>\n",
       "      <td>40</td>\n",
       "      <td>35</td>\n",
       "      <td>168</td>\n",
       "      <td>43.1</td>\n",
       "      <td>2.288</td>\n",
       "      <td>33</td>\n",
       "      <td>1</td>\n",
       "    </tr>\n",
       "  </tbody>\n",
       "</table>\n",
       "</div>"
      ],
      "text/plain": [
       "   Pregnancies  Glucose  BloodPressure  SkinThickness  Insulin   BMI  \\\n",
       "0            6      148             72             35        0  33.6   \n",
       "1            1       85             66             29        0  26.6   \n",
       "2            8      183             64              0        0  23.3   \n",
       "3            1       89             66             23       94  28.1   \n",
       "4            0      137             40             35      168  43.1   \n",
       "\n",
       "   DiabetesPedigreeFunction  Age  Outcome  \n",
       "0                     0.627   50        1  \n",
       "1                     0.351   31        0  \n",
       "2                     0.672   32        1  \n",
       "3                     0.167   21        0  \n",
       "4                     2.288   33        1  "
      ]
     },
     "execution_count": 5,
     "metadata": {},
     "output_type": "execute_result"
    }
   ],
   "source": [
    "dataa.head()"
   ]
  },
  {
   "cell_type": "code",
   "execution_count": 6,
   "id": "f6031dec-bddc-45ff-93b8-c202743be451",
   "metadata": {},
   "outputs": [],
   "source": [
    "from tensorflow.keras.models import Sequential\n",
    "from tensorflow.keras.layers import Dense\n",
    "from sklearn.metrics import accuracy_score"
   ]
  },
  {
   "cell_type": "markdown",
   "id": "0e89b6d7-d256-4080-b54c-3f98cd968db1",
   "metadata": {},
   "source": [
    "#### With the help of tendorflow we designed a deep learning model that predicts whether a person has diabetes or not by understanding underlying patterns in the factors that contribute to the testing positive of diabetes"
   ]
  },
  {
   "cell_type": "markdown",
   "id": "57820123-4297-42fa-b11e-cfdaabf3c4e3",
   "metadata": {},
   "source": [
    "### Dividing the data into test and train sets"
   ]
  },
  {
   "cell_type": "code",
   "execution_count": 7,
   "id": "4cf743fd-7d30-4756-b7b1-149bdea3201a",
   "metadata": {},
   "outputs": [],
   "source": [
    "y= dataa['Outcome']\n",
    "x=dataa.drop(['Outcome'],axis=1)"
   ]
  },
  {
   "cell_type": "code",
   "execution_count": 8,
   "id": "fb44a15a-8951-467f-be33-8ce86f0c3e36",
   "metadata": {},
   "outputs": [
    {
     "name": "stdout",
     "output_type": "stream",
     "text": [
      "(652, 8)\n",
      "(116, 8)\n",
      "(652,)\n",
      "(116,)\n"
     ]
    }
   ],
   "source": [
    "xtrain,xtest,ytrain,ytest= train_test_split(x,y,test_size=0.15,stratify=y)\n",
    "print(xtrain.shape)\n",
    "print(xtest.shape)\n",
    "print(ytrain.shape)\n",
    "print(ytest.shape)"
   ]
  },
  {
   "cell_type": "markdown",
   "id": "b0391248-1b1b-4538-847d-13d99d509075",
   "metadata": {},
   "source": [
    "#### Creating DL model"
   ]
  },
  {
   "cell_type": "code",
   "execution_count": 17,
   "id": "df9bf329-9f15-4642-b95c-6a72f2236173",
   "metadata": {},
   "outputs": [
    {
     "name": "stdout",
     "output_type": "stream",
     "text": [
      "Model: \"sequential_4\"\n",
      "_________________________________________________________________\n",
      " Layer (type)                Output Shape              Param #   \n",
      "=================================================================\n",
      " dense_9 (Dense)             (None, 256)               2304      \n",
      "                                                                 \n",
      " dense_10 (Dense)            (None, 156)               40092     \n",
      "                                                                 \n",
      " dense_11 (Dense)            (None, 1)                 157       \n",
      "                                                                 \n",
      "=================================================================\n",
      "Total params: 42,553\n",
      "Trainable params: 42,553\n",
      "Non-trainable params: 0\n",
      "_________________________________________________________________\n"
     ]
    }
   ],
   "source": [
    "model= Sequential()\n",
    "model.add(Dense(units=256, activation ='relu', input_shape=([8])))\n",
    "model.add(Dense(units=156, activation ='relu'))\n",
    "model.add(Dense(units=1, activation ='sigmoid'))\n",
    "# we added only two hidden layers to our code\n",
    "model.summary()\n",
    "model.compile(loss='binary_crossentropy', optimizer='adam', metrics='accuracy')"
   ]
  },
  {
   "cell_type": "markdown",
   "id": "efa6ab7e-0427-4814-9d88-2132db243bc9",
   "metadata": {},
   "source": [
    "#### Fitting the model"
   ]
  },
  {
   "cell_type": "code",
   "execution_count": 21,
   "id": "c8b99280-e6f2-46c4-9689-f77e7ba66ab4",
   "metadata": {},
   "outputs": [
    {
     "name": "stdout",
     "output_type": "stream",
     "text": [
      "Epoch 1/50\n",
      "200/200 [==============================] - 0s 2ms/step - loss: 0.3965 - accuracy: 0.7987 - val_loss: 0.6976 - val_accuracy: 0.7586\n",
      "Epoch 2/50\n",
      "200/200 [==============================] - 0s 1ms/step - loss: 0.3798 - accuracy: 0.8062 - val_loss: 0.7294 - val_accuracy: 0.7241\n",
      "Epoch 3/50\n",
      "200/200 [==============================] - 0s 1ms/step - loss: 0.3812 - accuracy: 0.8163 - val_loss: 0.8009 - val_accuracy: 0.7155\n",
      "Epoch 4/50\n",
      "200/200 [==============================] - 0s 1ms/step - loss: 0.3754 - accuracy: 0.8200 - val_loss: 0.6691 - val_accuracy: 0.7069\n",
      "Epoch 5/50\n",
      "200/200 [==============================] - 0s 1ms/step - loss: 0.3722 - accuracy: 0.8188 - val_loss: 0.7373 - val_accuracy: 0.7241\n",
      "Epoch 6/50\n",
      "200/200 [==============================] - 0s 1ms/step - loss: 0.3839 - accuracy: 0.8213 - val_loss: 0.6736 - val_accuracy: 0.7414\n",
      "Epoch 7/50\n",
      "200/200 [==============================] - 0s 1ms/step - loss: 0.3543 - accuracy: 0.8413 - val_loss: 0.7765 - val_accuracy: 0.7155\n",
      "Epoch 8/50\n",
      "200/200 [==============================] - 0s 1ms/step - loss: 0.3672 - accuracy: 0.8213 - val_loss: 0.7445 - val_accuracy: 0.6897\n",
      "Epoch 9/50\n",
      "200/200 [==============================] - 0s 1ms/step - loss: 0.3924 - accuracy: 0.8350 - val_loss: 0.7520 - val_accuracy: 0.6983\n",
      "Epoch 10/50\n",
      "200/200 [==============================] - 0s 2ms/step - loss: 0.3580 - accuracy: 0.8288 - val_loss: 0.7438 - val_accuracy: 0.7328\n",
      "Epoch 11/50\n",
      "200/200 [==============================] - 1s 3ms/step - loss: 0.3910 - accuracy: 0.8012 - val_loss: 0.7174 - val_accuracy: 0.7328\n",
      "Epoch 12/50\n",
      "200/200 [==============================] - 1s 6ms/step - loss: 0.3524 - accuracy: 0.8225 - val_loss: 0.8716 - val_accuracy: 0.6897\n",
      "Epoch 13/50\n",
      "200/200 [==============================] - 1s 5ms/step - loss: 0.3559 - accuracy: 0.8350 - val_loss: 0.7195 - val_accuracy: 0.6983\n",
      "Epoch 14/50\n",
      "200/200 [==============================] - 1s 5ms/step - loss: 0.3829 - accuracy: 0.8025 - val_loss: 0.7845 - val_accuracy: 0.7069\n",
      "Epoch 15/50\n",
      "200/200 [==============================] - 1s 5ms/step - loss: 0.3411 - accuracy: 0.8363 - val_loss: 0.8609 - val_accuracy: 0.7069\n",
      "Epoch 16/50\n",
      "200/200 [==============================] - 1s 5ms/step - loss: 0.3621 - accuracy: 0.8275 - val_loss: 0.8221 - val_accuracy: 0.6983\n",
      "Epoch 17/50\n",
      "200/200 [==============================] - 1s 4ms/step - loss: 0.3345 - accuracy: 0.8313 - val_loss: 0.7999 - val_accuracy: 0.7328\n",
      "Epoch 18/50\n",
      "200/200 [==============================] - 1s 4ms/step - loss: 0.3546 - accuracy: 0.8288 - val_loss: 0.8127 - val_accuracy: 0.6983\n",
      "Epoch 19/50\n",
      "200/200 [==============================] - 1s 4ms/step - loss: 0.3401 - accuracy: 0.8525 - val_loss: 0.8853 - val_accuracy: 0.6724\n",
      "Epoch 20/50\n",
      "200/200 [==============================] - 1s 4ms/step - loss: 0.3448 - accuracy: 0.8400 - val_loss: 0.7934 - val_accuracy: 0.7414\n",
      "Epoch 21/50\n",
      "200/200 [==============================] - 1s 4ms/step - loss: 0.3727 - accuracy: 0.8338 - val_loss: 0.8595 - val_accuracy: 0.7155\n",
      "Epoch 22/50\n",
      "200/200 [==============================] - 1s 5ms/step - loss: 0.3444 - accuracy: 0.8425 - val_loss: 0.9792 - val_accuracy: 0.7069\n",
      "Epoch 23/50\n",
      "200/200 [==============================] - 1s 4ms/step - loss: 0.3374 - accuracy: 0.8550 - val_loss: 0.9190 - val_accuracy: 0.6897\n",
      "Epoch 24/50\n",
      "200/200 [==============================] - 1s 4ms/step - loss: 0.3313 - accuracy: 0.8500 - val_loss: 0.7985 - val_accuracy: 0.7414\n",
      "Epoch 25/50\n",
      "200/200 [==============================] - 1s 4ms/step - loss: 0.3447 - accuracy: 0.8450 - val_loss: 0.8349 - val_accuracy: 0.6810\n",
      "Epoch 26/50\n",
      "200/200 [==============================] - 1s 4ms/step - loss: 0.3397 - accuracy: 0.8462 - val_loss: 0.9954 - val_accuracy: 0.7155\n",
      "Epoch 27/50\n",
      "200/200 [==============================] - 1s 4ms/step - loss: 0.3209 - accuracy: 0.8425 - val_loss: 0.9279 - val_accuracy: 0.6552\n",
      "Epoch 28/50\n",
      "200/200 [==============================] - 1s 4ms/step - loss: 0.3236 - accuracy: 0.8600 - val_loss: 0.9598 - val_accuracy: 0.6724\n",
      "Epoch 29/50\n",
      "200/200 [==============================] - 1s 4ms/step - loss: 0.3518 - accuracy: 0.8375 - val_loss: 1.0178 - val_accuracy: 0.7328\n",
      "Epoch 30/50\n",
      "200/200 [==============================] - 1s 5ms/step - loss: 0.2923 - accuracy: 0.8700 - val_loss: 0.9712 - val_accuracy: 0.6983\n",
      "Epoch 31/50\n",
      "200/200 [==============================] - 1s 5ms/step - loss: 0.3402 - accuracy: 0.8350 - val_loss: 0.9312 - val_accuracy: 0.6983\n",
      "Epoch 32/50\n",
      "200/200 [==============================] - 1s 4ms/step - loss: 0.3100 - accuracy: 0.8550 - val_loss: 1.0745 - val_accuracy: 0.6810\n",
      "Epoch 33/50\n",
      "200/200 [==============================] - 1s 5ms/step - loss: 0.3054 - accuracy: 0.8587 - val_loss: 0.9633 - val_accuracy: 0.6810\n",
      "Epoch 34/50\n",
      "200/200 [==============================] - 1s 4ms/step - loss: 0.2736 - accuracy: 0.8763 - val_loss: 1.0591 - val_accuracy: 0.6724\n",
      "Epoch 35/50\n",
      "200/200 [==============================] - 1s 4ms/step - loss: 0.3019 - accuracy: 0.8612 - val_loss: 0.8702 - val_accuracy: 0.6897\n",
      "Epoch 36/50\n",
      "200/200 [==============================] - 1s 4ms/step - loss: 0.2810 - accuracy: 0.8775 - val_loss: 1.0509 - val_accuracy: 0.7069\n",
      "Epoch 37/50\n",
      "200/200 [==============================] - 1s 4ms/step - loss: 0.3087 - accuracy: 0.8687 - val_loss: 0.9040 - val_accuracy: 0.6724\n",
      "Epoch 38/50\n",
      "200/200 [==============================] - 1s 4ms/step - loss: 0.3119 - accuracy: 0.8625 - val_loss: 0.9825 - val_accuracy: 0.6638\n",
      "Epoch 39/50\n",
      "200/200 [==============================] - 1s 4ms/step - loss: 0.2958 - accuracy: 0.8575 - val_loss: 0.9625 - val_accuracy: 0.6552\n",
      "Epoch 40/50\n",
      "200/200 [==============================] - 1s 4ms/step - loss: 0.2710 - accuracy: 0.8725 - val_loss: 1.0751 - val_accuracy: 0.6552\n",
      "Epoch 41/50\n",
      "137/200 [===================>..........] - ETA: 0s - loss: 0.3080 - accuracy: 0.8668WARNING:tensorflow:Your input ran out of data; interrupting training. Make sure that your dataset or generator can generate at least `steps_per_epoch * epochs` batches (in this case, 10000 batches). You may need to use the repeat() function when building your dataset.\n",
      "200/200 [==============================] - 1s 3ms/step - loss: 0.3060 - accuracy: 0.8683 - val_loss: 0.9078 - val_accuracy: 0.7241\n"
     ]
    },
    {
     "data": {
      "text/plain": [
       "<keras.callbacks.History at 0x1dd6e0261c0>"
      ]
     },
     "execution_count": 21,
     "metadata": {},
     "output_type": "execute_result"
    }
   ],
   "source": [
    "num_epochs= 50\n",
    "model.fit(xtrain,ytrain,epochs=num_epochs, steps_per_epoch=200, validation_data=(xtest ,ytest))"
   ]
  },
  {
   "cell_type": "markdown",
   "id": "716c9406-ebd8-4b63-9757-de86a0c0f16c",
   "metadata": {},
   "source": [
    "#### Evaluating"
   ]
  },
  {
   "cell_type": "code",
   "execution_count": 31,
   "id": "0a59f151-7a44-47d9-aeb6-ece2946031e7",
   "metadata": {},
   "outputs": [
    {
     "name": "stdout",
     "output_type": "stream",
     "text": [
      "4/4 [==============================] - 0s 6ms/step\n"
     ]
    }
   ],
   "source": [
    "y_pred_test= model.predict(xtest)\n",
    "y_pred_test= [0 if val<0.5 else 1 for val in y_pred]"
   ]
  },
  {
   "cell_type": "code",
   "execution_count": 32,
   "id": "ba63fe2a-8881-43e2-a44a-3ea74da5a0f6",
   "metadata": {},
   "outputs": [
    {
     "name": "stdout",
     "output_type": "stream",
     "text": [
      "Accuracy score (test):  0.7241379310344828\n"
     ]
    }
   ],
   "source": [
    "# checking the accuracy score for the test dataset \n",
    "print(\"Accuracy score (test): \" , accuracy_score(ytest,y_pred_test))"
   ]
  },
  {
   "cell_type": "code",
   "execution_count": 33,
   "id": "8f0b58ed-18a3-43e7-8ac8-bfa91faed4bd",
   "metadata": {},
   "outputs": [
    {
     "name": "stdout",
     "output_type": "stream",
     "text": [
      "21/21 [==============================] - 0s 2ms/step\n"
     ]
    }
   ],
   "source": [
    "# evaluating the model for train set \n",
    "y_pred_train= model.predict(xtrain)\n",
    "y_pred_train= [0 if val<0.5 else 1 for val in y_pred_train]"
   ]
  },
  {
   "cell_type": "code",
   "execution_count": 34,
   "id": "348f0230-e5a7-45e7-8cc3-36664ed2430e",
   "metadata": {},
   "outputs": [
    {
     "name": "stdout",
     "output_type": "stream",
     "text": [
      "Accuracy score (test):  0.8773006134969326\n"
     ]
    }
   ],
   "source": [
    "# checking the accuracy score for the train dataset \n",
    "print(\"Accuracy score (test): \" , accuracy_score(ytrain,y_pred_train))"
   ]
  },
  {
   "cell_type": "markdown",
   "id": "21c71f20-8b11-4ce3-b165-25fdc2b79e86",
   "metadata": {},
   "source": [
    "### Conclusion "
   ]
  },
  {
   "cell_type": "markdown",
   "id": "e4ab49c6-578a-4b30-80bb-41debc3d2d6c",
   "metadata": {},
   "source": [
    "We observed that the accuracy scores of:\n",
    "-> Train set: 72.41%\n",
    "-> Test set: 87.7% \n",
    "This suggests that our model could generalize well to unseen data, indicating its potential effectiveness in predicting whether a person has diabetes or not. With further improvement, we can use it to predict other diseases. Our initial effort to identify patients at greater risk of developing DKA and hypertension could be enhanced by using this model. Overall, this outcome is promising but it requires careful analysis to increase model efficiency. \n",
    "\r\n",
    "\r\n",
    "\r\n"
   ]
  },
  {
   "cell_type": "code",
   "execution_count": null,
   "id": "46e17126-8648-4d8f-845c-99a0e89f90f9",
   "metadata": {},
   "outputs": [],
   "source": []
  }
 ],
 "metadata": {
  "kernelspec": {
   "display_name": "Python 3 (ipykernel)",
   "language": "python",
   "name": "python3"
  },
  "language_info": {
   "codemirror_mode": {
    "name": "ipython",
    "version": 3
   },
   "file_extension": ".py",
   "mimetype": "text/x-python",
   "name": "python",
   "nbconvert_exporter": "python",
   "pygments_lexer": "ipython3",
   "version": "3.8.18"
  }
 },
 "nbformat": 4,
 "nbformat_minor": 5
}
